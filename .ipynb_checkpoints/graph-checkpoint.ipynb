{
 "cells": [
  {
   "cell_type": "code",
   "execution_count": 42,
   "metadata": {},
   "outputs": [],
   "source": [
    "\n",
    "class Vertex:\n",
    "    def __init__(self, id: int, balance=None, *args, **kwargs):\n",
    "        self.id = id\n",
    "        self.balance = balance\n",
    "\"\"\"\n",
    "class Edge:\n",
    "    def __init__(self, u: Vertex, v: Vertex, weight=None, capacity=None, *args, **kwargs):\n",
    "        self.u = u\n",
    "        self.v = v\n",
    "        self.weight = weight\n",
    "        self.capacity = capacity\n",
    "\"\"\"        \n",
    "class Graph:\n",
    "    \n",
    "    def __init__(self, is_directed=False, *args, **kwargs):\n",
    "        self.V = 0\n",
    "        self.graph = dict()\n",
    "        self.is_directed = is_directed\n",
    "    \n",
    "    def print_graph(self):\n",
    "        #print({k.id: [val.id for val in values] for k, values in self.graph.items()})\n",
    "        print(self.graph)\n",
    "        return None\n",
    "    \n",
    "    def add_vertex(self, v: Vertex):\n",
    "        if v in self.graph.keys():\n",
    "            print(\"Vertex already in graph.\")\n",
    "            return 1\n",
    "        else:\n",
    "            self.V += 1\n",
    "            self.graph[v.id] = []\n",
    "            return 0\n",
    "    \n",
    "    def get_vertex(self, v_id: int):\n",
    "        \n",
    "        # ? This is no longer O(1) lookup!\n",
    "        for v in self.graph.keys():\n",
    "            if v.id == v_id:\n",
    "                return v\n",
    "    \n",
    "    def get_edge(self):\n",
    "        pass\n",
    "            \n",
    "    def add_edge(self, src_id: int, dest_id:int, weight=1.0):\n",
    "        \n",
    "        # ? Adding edge with vertices not in the graph?\n",
    "        # ? Instead of adding edges with vertex objects, add them by id for more usability?\n",
    "        \n",
    "        # TODO: Case: Vertices not in graph\n",
    "        \n",
    "        v1 = self.get_vertex(src_id)\n",
    "        v2 = self.get_vertex(dest_id)\n",
    "        \n",
    "        self.graph[v1.id].append((v2.id, weight))\n",
    "        if not self.is_directed:\n",
    "            self.graph[v2.id].append((v1.id, weight))\n",
    "            \n",
    "        # TODO: How to implement Edge into basic graph structure?\n",
    "        # TODO: This approach is vertex based \n",
    "        # TODO: I guess one may choose between the approaches.\n",
    "        # TODO: For later problems like the flow-networks another graph strucute might be necessary (edge list)\n",
    "        "
   ]
  },
  {
   "cell_type": "code",
   "execution_count": 43,
   "metadata": {},
   "outputs": [
    {
     "name": "stdout",
     "output_type": "stream",
     "text": [
      "{0: [(1, 1337.0)], 1: [(0, 1337.0)]}\n"
     ]
    }
   ],
   "source": [
    "g = Graph()\n",
    "v = Vertex(0, 5)\n",
    "u = Vertex(1, 2)\n",
    "g.add_vertex(v)\n",
    "g.add_vertex(u)\n",
    "\n",
    "g.add_edge(0, 1, 1337.0)\n",
    "\n",
    "g.print_graph()"
   ]
  },
  {
   "cell_type": "code",
   "execution_count": 32,
   "metadata": {},
   "outputs": [
    {
     "data": {
      "text/plain": [
       "5"
      ]
     },
     "execution_count": 32,
     "metadata": {},
     "output_type": "execute_result"
    }
   ],
   "source": [
    "vertex = g.get_vertex(0)"
   ]
  },
  {
   "cell_type": "code",
   "execution_count": 12,
   "metadata": {},
   "outputs": [
    {
     "data": {
      "text/plain": [
       "dict_keys([<__main__.Vertex object at 0x000001BC65187A90>, <__main__.Vertex object at 0x000001BC65187100>])"
      ]
     },
     "execution_count": 12,
     "metadata": {},
     "output_type": "execute_result"
    }
   ],
   "source": [
    "g.graph.keys()"
   ]
  },
  {
   "cell_type": "code",
   "execution_count": null,
   "metadata": {},
   "outputs": [],
   "source": []
  }
 ],
 "metadata": {
  "kernelspec": {
   "display_name": "Python 3.9.12 ('base')",
   "language": "python",
   "name": "python3"
  },
  "language_info": {
   "codemirror_mode": {
    "name": "ipython",
    "version": 3
   },
   "file_extension": ".py",
   "mimetype": "text/x-python",
   "name": "python",
   "nbconvert_exporter": "python",
   "pygments_lexer": "ipython3",
   "version": "3.9.12"
  },
  "orig_nbformat": 4,
  "vscode": {
   "interpreter": {
    "hash": "5365339e8c17b837d37b428e255f111d518d3e12a317e22ebc6b3c7c9f9dbc78"
   }
  }
 },
 "nbformat": 4,
 "nbformat_minor": 2
}
