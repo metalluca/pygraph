{
 "cells": [
  {
   "cell_type": "code",
   "execution_count": 148,
   "metadata": {},
   "outputs": [],
   "source": [
    "from collections import deque\n",
    "\n",
    "class Vertex:\n",
    "    def __init__(self, id: int, balance=None, *args, **kwargs):\n",
    "        self.id = id\n",
    "        self.balance = balance\n",
    "\"\"\"\n",
    "class Edge:\n",
    "    def __init__(self, u: Vertex, v: Vertex, weight=None, capacity=None, *args, **kwargs):\n",
    "        self.u = u\n",
    "        self.v = v\n",
    "        self.weight = weight\n",
    "        self.capacity = capacity\n",
    "\"\"\"        \n",
    "class Graph:\n",
    "    \n",
    "    def __init__(self, is_directed=False, *args, **kwargs):\n",
    "        self.V = 0\n",
    "        self.graph = dict()\n",
    "        self.is_directed = is_directed\n",
    "    \n",
    "    def print_graph(self):\n",
    "        # Info: indices \n",
    "        vertex, weight = 0, 1\n",
    "        print({v.id: [(edge[vertex].id, edge[weight]) for edge in edges] for v, edges in self.graph.items()})\n",
    "        return None\n",
    "    \n",
    "    def add_vertex(self, v: Vertex):\n",
    "        if v in self.graph.keys():\n",
    "            print(\"Vertex already in graph.\")\n",
    "            return 1\n",
    "        else:\n",
    "            self.V += 1\n",
    "            self.graph[v] = []\n",
    "            return 0\n",
    "    \n",
    "    def get_vertex(self, v_id: int):\n",
    "        for v in self.graph.keys():\n",
    "            if v.id == v_id:\n",
    "                return v\n",
    "        raise KeyError(f\"Vertex with id {v_id} not found in graph.\")\n",
    "\n",
    "    def get_edge(self):\n",
    "        pass\n",
    "            \n",
    "    def add_edge(self, src_id: int, dest_id:int, weight=1.0):\n",
    "        \n",
    "        # ? Adding edge with vertices not in the graph?\n",
    "        # ? Instead of adding edges with vertex objects, add them by id for more usability?\n",
    "        \n",
    "        # TODO: Case: Vertices not in graph\n",
    "        \n",
    "        v1 = self.get_vertex(src_id)\n",
    "        v2 = self.get_vertex(dest_id)\n",
    "        \n",
    "        self.graph[v1].append((v2, weight))\n",
    "        if not self.is_directed:\n",
    "            self.graph[v2].append((v1, weight))\n",
    "            \n",
    "        # TODO: How to implement Edge into basic graph structure?\n",
    "        # TODO: This approach is vertex based \n",
    "        # TODO: I guess one may choose between the approaches.\n",
    "        # TODO: For later problems like the flow-networks another graph strucute might be necessary (edge list)\n",
    "    \n",
    "    def breadth_first_search(self, v_start_id, *args):\n",
    "        \"\"\"\n",
    "        IN: starting vertex\n",
    "        OUT: visited set\n",
    "        \n",
    "        TODO: Add tests cases!\n",
    "        \"\"\"     \n",
    "        v_start = self.get_vertex(v_start_id)\n",
    "        visited = set()\n",
    "        queue = deque([v_start])\n",
    "        visited.add(v_start)\n",
    "        while queue:\n",
    "            curr_v = queue.popleft()\n",
    "            for neighbour, _ in self.graph[curr_v]:\n",
    "                if neighbour not in visited:\n",
    "                    queue.append(neighbour)\n",
    "                    visited.add(neighbour)\n",
    "        return visited\n",
    "    \n",
    "    def depth_first_search(self, v_start_id, visited, *args):\n",
    "        \"\"\"\n",
    "        IN: starting vertex, set of traversed edges\n",
    "        OUT: None\n",
    "        \n",
    "        TODO: Add tests cases!\n",
    "        \"\"\"\n",
    "        v_start = self.get_vertex(v_start_id)\n",
    "        visited.add(v_start)\n",
    "        if \n",
    "        \n",
    "        for neighbour, _ in self.graph[v_start]:\n",
    "            if neighbour not in visited:\n",
    "                self.depth_first_search(neighbour.id, visited)                "
   ]
  },
  {
   "cell_type": "code",
   "execution_count": 149,
   "metadata": {},
   "outputs": [],
   "source": [
    "g = Graph()\n",
    "v = Vertex(0, 5)\n",
    "u = Vertex(1, 2)\n",
    "g.add_vertex(v)\n",
    "g.add_vertex(u)\n",
    "g.add_edge(0, 1, 1337.0)"
   ]
  },
  {
   "cell_type": "code",
   "execution_count": 153,
   "metadata": {},
   "outputs": [
    {
     "name": "stdout",
     "output_type": "stream",
     "text": [
      "{<__main__.Vertex object at 0x0000018800126490>, <__main__.Vertex object at 0x00000188020F9E50>}\n"
     ]
    }
   ],
   "source": [
    "traversed = set()\n",
    "tree = g.depth_first_search(0, traversed)"
   ]
  },
  {
   "cell_type": "code",
   "execution_count": null,
   "metadata": {},
   "outputs": [],
   "source": []
  },
  {
   "cell_type": "code",
   "execution_count": null,
   "metadata": {},
   "outputs": [],
   "source": []
  }
 ],
 "metadata": {
  "kernelspec": {
   "display_name": "Python 3.9.12 ('base')",
   "language": "python",
   "name": "python3"
  },
  "language_info": {
   "codemirror_mode": {
    "name": "ipython",
    "version": 3
   },
   "file_extension": ".py",
   "mimetype": "text/x-python",
   "name": "python",
   "nbconvert_exporter": "python",
   "pygments_lexer": "ipython3",
   "version": "3.9.12"
  },
  "orig_nbformat": 4,
  "vscode": {
   "interpreter": {
    "hash": "5365339e8c17b837d37b428e255f111d518d3e12a317e22ebc6b3c7c9f9dbc78"
   }
  }
 },
 "nbformat": 4,
 "nbformat_minor": 2
}
